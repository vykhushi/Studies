{
 "cells": [
  {
   "cell_type": "code",
   "execution_count": 7,
   "id": "855dd482-b40a-4151-bd52-a54d87cde17f",
   "metadata": {},
   "outputs": [],
   "source": [
    "#importing packages \n",
    "from pyspark.sql import SparkSession\n",
    "from pyspark.sql.types import StructType,StructField,IntegerType,StringType\n",
    "import pyspark.sql.functions as fun\n",
    "\n",
    "\n",
    "\n"
   ]
  },
  {
   "cell_type": "code",
   "execution_count": 3,
   "id": "4987ec5f",
   "metadata": {},
   "outputs": [],
   "source": [
    "#making the session \n",
    "\n",
    "spark= SparkSession.builder.appName(\"sampleApp\").getOrCreate()\n"
   ]
  },
  {
   "cell_type": "code",
   "execution_count": 11,
   "id": "b4365b0d",
   "metadata": {},
   "outputs": [],
   "source": [
    "#defining schema for the dataframe\n",
    "\n",
    "myschema = StructType([\n",
    "    StructField(\"UserID\", IntegerType(), True),\n",
    "    StructField(\"Name\", StringType(), True),\n",
    "    StructField(\"Age\", IntegerType(), True),\n",
    "    StructField(\"Friends\", IntegerType(), True),\n",
    "])\n"
   ]
  },
  {
   "cell_type": "code",
   "execution_count": 12,
   "id": "19c24e07",
   "metadata": {},
   "outputs": [],
   "source": [
    "#creating dataframe\n",
    "people = spark.read.format(\"csv\")\\\n",
    "    .schema(myschema)\\\n",
    "    .option(\"header\", True)\\\n",
    "    .load(\"fakefriends.csv\")"
   ]
  },
  {
   "cell_type": "code",
   "execution_count": 14,
   "id": "a64cf6fc",
   "metadata": {},
   "outputs": [],
   "source": [
    "# Performing transformation\n",
    "output = people.select(people.UserID, people.Name, people.Age, people.Friends)\\\n",
    "    .where(people.Age < 30)\\\n",
    "    .withColumn(\"insert_ts\", fun.current_timestamp())\\\n",
    "    .orderBy(people.UserID)"
   ]
  },
  {
   "cell_type": "code",
   "execution_count": 15,
   "id": "a6e486fe",
   "metadata": {},
   "outputs": [
    {
     "name": "stdout",
     "output_type": "stream",
     "text": [
      "+------+-----+---+-------+--------------------+\n",
      "|UserID| Name|Age|Friends|           insert_ts|\n",
      "+------+-----+---+-------+--------------------+\n",
      "|     1| John| 28|    150|2024-07-05 00:03:...|\n",
      "|     2| Jane| 22|    200|2024-07-05 00:03:...|\n",
      "|     4|Alice| 19|    300|2024-07-05 00:03:...|\n",
      "|     5|  Tom| 25|    100|2024-07-05 00:03:...|\n",
      "|     7|James| 27|    180|2024-07-05 00:03:...|\n",
      "|     8|Linda| 24|    220|2024-07-05 00:03:...|\n",
      "|    10|David| 23|    140|2024-07-05 00:03:...|\n",
      "+------+-----+---+-------+--------------------+\n",
      "\n"
     ]
    }
   ],
   "source": [
    "# Display the result\n",
    "output.show()"
   ]
  },
  {
   "cell_type": "code",
   "execution_count": 16,
   "id": "db6b3fd5",
   "metadata": {},
   "outputs": [
    {
     "name": "stdout",
     "output_type": "stream",
     "text": [
      "+------+-----+---+-------+--------------------+\n",
      "|UserID| Name|Age|Friends|           insert_ts|\n",
      "+------+-----+---+-------+--------------------+\n",
      "|     1| John| 28|    150|2024-07-05 00:03:...|\n",
      "|     2| Jane| 22|    200|2024-07-05 00:03:...|\n",
      "|     4|Alice| 19|    300|2024-07-05 00:03:...|\n",
      "|     5|  Tom| 25|    100|2024-07-05 00:03:...|\n",
      "|     7|James| 27|    180|2024-07-05 00:03:...|\n",
      "|     8|Linda| 24|    220|2024-07-05 00:03:...|\n",
      "|    10|David| 23|    140|2024-07-05 00:03:...|\n",
      "+------+-----+---+-------+--------------------+\n",
      "\n"
     ]
    }
   ],
   "source": [
    "# Display the result\n",
    "output.show()"
   ]
  },
  {
   "cell_type": "code",
   "execution_count": 17,
   "id": "e4494d47",
   "metadata": {},
   "outputs": [
    {
     "name": "stdout",
     "output_type": "stream",
     "text": [
      "+------+------+---+-------+\n",
      "|UserID|  Name|Age|Friends|\n",
      "+------+------+---+-------+\n",
      "|     1|  John| 28|    150|\n",
      "|     2|  Jane| 22|    200|\n",
      "|     3|   Bob| 35|     50|\n",
      "|     4| Alice| 19|    300|\n",
      "|     5|   Tom| 25|    100|\n",
      "|     6|  Emma| 30|    250|\n",
      "|     7| James| 27|    180|\n",
      "|     8| Linda| 24|    220|\n",
      "|     9|Robert| 31|    170|\n",
      "|    10| David| 23|    140|\n",
      "+------+------+---+-------+\n",
      "\n"
     ]
    }
   ],
   "source": [
    "people.show()"
   ]
  },
  {
   "cell_type": "code",
   "execution_count": 18,
   "id": "b1c6a66e",
   "metadata": {},
   "outputs": [
    {
     "data": {
      "text/plain": [
       "10"
      ]
     },
     "execution_count": 18,
     "metadata": {},
     "output_type": "execute_result"
    }
   ],
   "source": [
    "people.count()"
   ]
  },
  {
   "cell_type": "code",
   "execution_count": 19,
   "id": "da4aaf31",
   "metadata": {},
   "outputs": [
    {
     "name": "stdout",
     "output_type": "stream",
     "text": [
      "== Physical Plan ==\n",
      "FileScan csv [UserID#0,Name#1,Age#2,Friends#3] Batched: false, DataFilters: [], Format: CSV, Location: InMemoryFileIndex(1 paths)[file:/c:/Users/vyask/OneDrive/Desktop/Studies/Spark/fakefriends.csv], PartitionFilters: [], PushedFilters: [], ReadSchema: struct<UserID:int,Name:string,Age:int,Friends:int>\n",
      "\n",
      "\n"
     ]
    }
   ],
   "source": [
    "people.explain()"
   ]
  },
  {
   "cell_type": "code",
   "execution_count": 21,
   "id": "f11a9c89",
   "metadata": {},
   "outputs": [
    {
     "name": "stdout",
     "output_type": "stream",
     "text": [
      "root\n",
      " |-- UserID: integer (nullable = true)\n",
      " |-- Name: string (nullable = true)\n",
      " |-- Age: integer (nullable = true)\n",
      " |-- Friends: integer (nullable = true)\n",
      "\n"
     ]
    }
   ],
   "source": [
    "people.printSchema()"
   ]
  },
  {
   "cell_type": "code",
   "execution_count": 22,
   "id": "6c7c77d7",
   "metadata": {},
   "outputs": [
    {
     "name": "stdout",
     "output_type": "stream",
     "text": [
      "+------+------+---+-------+\n",
      "|UserID|  Name|Age|Friends|\n",
      "+------+------+---+-------+\n",
      "|     1|  John| 28|    150|\n",
      "|     2|  Jane| 22|    200|\n",
      "|     3|   Bob| 35|     50|\n",
      "|     4| Alice| 19|    300|\n",
      "|     5|   Tom| 25|    100|\n",
      "|     6|  Emma| 30|    250|\n",
      "|     7| James| 27|    180|\n",
      "|     8| Linda| 24|    220|\n",
      "|     9|Robert| 31|    170|\n",
      "|    10| David| 23|    140|\n",
      "+------+------+---+-------+\n",
      "\n"
     ]
    }
   ],
   "source": [
    "people.select(\"*\").show()"
   ]
  },
  {
   "cell_type": "code",
   "execution_count": 24,
   "id": "5af54263",
   "metadata": {},
   "outputs": [
    {
     "name": "stdout",
     "output_type": "stream",
     "text": [
      "+---+\n",
      "|Age|\n",
      "+---+\n",
      "| 28|\n",
      "| 22|\n",
      "| 35|\n",
      "| 19|\n",
      "| 25|\n",
      "| 30|\n",
      "| 27|\n",
      "| 24|\n",
      "| 31|\n",
      "| 23|\n",
      "+---+\n",
      "\n"
     ]
    }
   ],
   "source": [
    "people.select(people.Age).show()"
   ]
  }
 ],
 "metadata": {
  "kernelspec": {
   "display_name": "Python 3 (ipykernel)",
   "language": "python",
   "name": "python3"
  },
  "language_info": {
   "codemirror_mode": {
    "name": "ipython",
    "version": 3
   },
   "file_extension": ".py",
   "mimetype": "text/x-python",
   "name": "python",
   "nbconvert_exporter": "python",
   "pygments_lexer": "ipython3",
   "version": "3.11.9"
  }
 },
 "nbformat": 4,
 "nbformat_minor": 5
}
